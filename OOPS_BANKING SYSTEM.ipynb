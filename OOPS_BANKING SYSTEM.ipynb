{
 "cells": [
  {
   "cell_type": "code",
   "execution_count": 3,
   "id": "e0b4b0f7-fadf-430c-a7f7-5573be18c728",
   "metadata": {},
   "outputs": [
    {
     "name": "stdout",
     "output_type": "stream",
     "text": [
      "Welcome to State Bank of India\n"
     ]
    },
    {
     "name": "stdin",
     "output_type": "stream",
     "text": [
      "Enter your username:  JISHA VARGHESE\n",
      "Enter your password:  ABCD2\n"
     ]
    },
    {
     "name": "stdout",
     "output_type": "stream",
     "text": [
      "Login successful! Welcome, JISHA VARGHESE.\n",
      "\n",
      "Select an option:\n",
      "1. Deposit Money\n",
      "2. Withdraw Money\n",
      "3. Display Balance\n",
      "4. Exit\n"
     ]
    },
    {
     "name": "stdin",
     "output_type": "stream",
     "text": [
      "Enter your choice (1/2/3/4):  1\n",
      "Enter amount to be deposited:  2000\n"
     ]
    },
    {
     "name": "stdout",
     "output_type": "stream",
     "text": [
      "Amount deposited: Rs 2000.0\n",
      "\n",
      "Select an option:\n",
      "1. Deposit Money\n",
      "2. Withdraw Money\n",
      "3. Display Balance\n",
      "4. Exit\n"
     ]
    },
    {
     "name": "stdin",
     "output_type": "stream",
     "text": [
      "Enter your choice (1/2/3/4):  2\n",
      "Enter amount to be withdrawn:  500\n"
     ]
    },
    {
     "name": "stdout",
     "output_type": "stream",
     "text": [
      "Amount withdrawn: Rs 500.0\n",
      "\n",
      "Select an option:\n",
      "1. Deposit Money\n",
      "2. Withdraw Money\n",
      "3. Display Balance\n",
      "4. Exit\n"
     ]
    },
    {
     "name": "stdin",
     "output_type": "stream",
     "text": [
      "Enter your choice (1/2/3/4):  3\n"
     ]
    },
    {
     "name": "stdout",
     "output_type": "stream",
     "text": [
      "Net balance is: Rs 1500.0\n",
      "\n",
      "Select an option:\n",
      "1. Deposit Money\n",
      "2. Withdraw Money\n",
      "3. Display Balance\n",
      "4. Exit\n"
     ]
    },
    {
     "name": "stdin",
     "output_type": "stream",
     "text": [
      "Enter your choice (1/2/3/4):  4\n"
     ]
    },
    {
     "name": "stdout",
     "output_type": "stream",
     "text": [
      "Thank you for using the State Bank of India.\n"
     ]
    }
   ],
   "source": [
    "\n",
    "class Account:\n",
    "    balance = 0.0  # here initializing the balance to 0\n",
    "\n",
    "    def display_balance(self):\n",
    "        print(f\"Net balance is: Rs {self.balance}\")\n",
    "\n",
    "    def deposit(self):\n",
    "        amount = float(input(\"Enter amount to be deposited: \"))\n",
    "        self.balance += amount\n",
    "        print(f\"Amount deposited: Rs {amount}\")\n",
    "\n",
    "    def withdraw(self):\n",
    "        amount = float(input(\"Enter amount to be withdrawn: \"))\n",
    "        if self.balance >= amount:\n",
    "            self.balance -= amount\n",
    "            print(f\"Amount withdrawn: Rs {amount}\")\n",
    "        else:\n",
    "            print(\"Insufficient balance for withdrawal.\")\n",
    "\n",
    "def login():\n",
    "    username = input(\"Enter your username: \")\n",
    "    password = input(\"Enter your password: \")\n",
    "    print(f\"Login successful! Welcome, {username}.\")\n",
    "\n",
    "# Main program\n",
    "def main():\n",
    "    print(\"Welcome to State Bank of India\")\n",
    "    login() # Login details\n",
    "    bank_account = Account()  # creating an account object\n",
    "\n",
    "    while True:\n",
    "        print(\"\\nSelect an option:\")\n",
    "        print(\"1. Deposit Money\")\n",
    "        print(\"2. Withdraw Money\")\n",
    "        print(\"3. Display Balance\")\n",
    "        print(\"4. Exit\")\n",
    "\n",
    "        choice = input(\"Enter your choice (1/2/3/4): \")\n",
    "\n",
    "        if choice == '1':\n",
    "            bank_account.deposit()\n",
    "        elif choice == '2':\n",
    "            bank_account.withdraw()\n",
    "        elif choice == '3':\n",
    "            bank_account.display_balance()\n",
    "        elif choice == '4':\n",
    "            print(\"Thank you for using the State Bank of India.\")\n",
    "            break\n",
    "        else:\n",
    "            print(\"Invalid choice. Please try again.\")\n",
    "\n",
    "\n",
    "main()  # Call the main function\n"
   ]
  },
  {
   "cell_type": "markdown",
   "id": "bab767ae-0598-4b7f-b160-319618796d7d",
   "metadata": {},
   "source": []
  }
 ],
 "metadata": {
  "kernelspec": {
   "display_name": "Python 3 (ipykernel)",
   "language": "python",
   "name": "python3"
  },
  "language_info": {
   "codemirror_mode": {
    "name": "ipython",
    "version": 3
   },
   "file_extension": ".py",
   "mimetype": "text/x-python",
   "name": "python",
   "nbconvert_exporter": "python",
   "pygments_lexer": "ipython3",
   "version": "3.12.4"
  }
 },
 "nbformat": 4,
 "nbformat_minor": 5
}
